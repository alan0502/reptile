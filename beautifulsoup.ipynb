{
 "cells": [
  {
   "cell_type": "code",
   "execution_count": 1,
   "metadata": {},
   "outputs": [],
   "source": [
    "from bs4 import BeautifulSoup"
   ]
  },
  {
   "cell_type": "code",
   "execution_count": 2,
   "metadata": {},
   "outputs": [
    {
     "name": "stdout",
     "output_type": "stream",
     "text": [
      "<title>台灣水庫即時水情</title>\n"
     ]
    }
   ],
   "source": [
    "import requests\n",
    "from bs4 import BeautifulSoup\n",
    "\n",
    "url = 'https://water.taiwanstat.com/'\n",
    "web = requests.get(url)                        # 取得網頁內容\n",
    "soup = BeautifulSoup(web.text, \"html.parser\")  # 轉換成標籤樹\n",
    "title = soup.title                        # 取得 title\n",
    "print(title)                                   # 印出 title ( 台灣水庫即時水情 )"
   ]
  },
  {
   "cell_type": "code",
   "execution_count": 15,
   "metadata": {},
   "outputs": [
    {
     "name": "stdout",
     "output_type": "stream",
     "text": [
      "Requirement already satisfied: html5lib in c:\\users\\alany\\anaconda3\\lib\\site-packages (1.1)\n",
      "Requirement already satisfied: six>=1.9 in c:\\users\\alany\\anaconda3\\lib\\site-packages (from html5lib) (1.16.0)\n",
      "Requirement already satisfied: webencodings in c:\\users\\alany\\anaconda3\\lib\\site-packages (from html5lib) (0.5.1)\n",
      "Note: you may need to restart the kernel to use updated packages.\n"
     ]
    }
   ],
   "source": [
    "%pip install html5lib"
   ]
  },
  {
   "cell_type": "code",
   "execution_count": 4,
   "metadata": {},
   "outputs": [
    {
     "name": "stdout",
     "output_type": "stream",
     "text": [
      "<title>台灣水庫即時水情</title>\n"
     ]
    }
   ],
   "source": [
    "url = 'https://water.taiwanstat.com/'\n",
    "web = requests.get(url)\n",
    "#soup = BeautifulSoup(web.text, \"html.parser\")  # 使用 html.parser 解析器\n",
    "soup = BeautifulSoup(web.text, \"html5lib\")       # 使用 html5lib 解析器\n",
    "title = soup.title\n",
    "print(title)"
   ]
  },
  {
   "cell_type": "code",
   "execution_count": 5,
   "metadata": {},
   "outputs": [
    {
     "name": "stdout",
     "output_type": "stream",
     "text": [
      "[<div id=\"logo\">\n",
      "<a href=\"/\"><img alt=\"Homepage\" src=\"/_img/2022/iana-logo-header.svg\"/></a>\n",
      "</div>]\n",
      "\n",
      "----------\n",
      "\n",
      "[<div id=\"logo\">\n",
      "<a href=\"/\"><img alt=\"Homepage\" src=\"/_img/2022/iana-logo-header.svg\"/></a>\n",
      "</div>]\n",
      "\n",
      "----------\n",
      "\n",
      "<div id=\"logo\">\n",
      "<a href=\"/\"><img alt=\"Homepage\" src=\"/_img/2022/iana-logo-header.svg\"/></a>\n",
      "</div>\n",
      "\n",
      "----------\n",
      "\n",
      "[<li><a href=\"/domains\">Domains</a></li>, <li><a href=\"/protocols\">Protocols</a></li>, <li><a href=\"/numbers\">Numbers</a></li>, <li><a href=\"/about\">About</a></li>]\n",
      "\n",
      "----------\n",
      "\n",
      "[<li><a href=\"/about\">About</a></li>]\n",
      "\n",
      "----------\n",
      "\n",
      "[<li><a href=\"/protocols\">Protocols</a></li>, <li><a href=\"/domains\">Domains</a></li>]\n"
     ]
    }
   ],
   "source": [
    "url = 'https://www.iana.org/domains/'\n",
    "web = requests.get(url)\n",
    "soup = BeautifulSoup(web.text, \"html.parser\")\n",
    "\n",
    "print(soup.select('#logo'))            # 搜尋 id 為 logo 的 tag 內容\n",
    "print('\\n----------\\n')\n",
    "\n",
    "print(soup.find_all('div',id=\"logo\"))  # 搜尋所有 id 為 logo 的 div\n",
    "print('\\n----------\\n')\n",
    "\n",
    "divs = soup.find_all('div')            # 搜尋所有的 div\n",
    "print(divs[1])                         # 取得搜尋到的第二個項目 ( 第一個為 divs[0] )\n",
    "print('\\n----------\\n')\n",
    "\n",
    "# 從搜尋到的項目裡，尋找父節點裡所有的 li\n",
    "print(divs[1].find_parent().find_all('li'))\n",
    "print('\\n----------\\n')\n",
    "\n",
    "# 從搜尋到的項目裡，尋找父節點裡所有 li 的第三個項目，找到他後方同層的所有 li\n",
    "print(divs[1].find_parent().find_all('li')[2].find_next_siblings())\n",
    "print('\\n----------\\n')\n",
    "\n",
    "# 從搜尋到的項目裡，尋找父節點裡所有 li 的第三個項目，找到他前方同層的所有 li\n",
    "print(divs[1].find_parent().find_all('li')[2].find_previous_siblings())"
   ]
  }
 ],
 "metadata": {
  "kernelspec": {
   "display_name": "base",
   "language": "python",
   "name": "python3"
  },
  "language_info": {
   "codemirror_mode": {
    "name": "ipython",
    "version": 3
   },
   "file_extension": ".py",
   "mimetype": "text/x-python",
   "name": "python",
   "nbconvert_exporter": "python",
   "pygments_lexer": "ipython3",
   "version": "3.12.4"
  }
 },
 "nbformat": 4,
 "nbformat_minor": 2
}
